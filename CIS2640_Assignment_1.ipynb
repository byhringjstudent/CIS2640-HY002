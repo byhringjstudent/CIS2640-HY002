{
  "nbformat": 4,
  "nbformat_minor": 0,
  "metadata": {
    "colab": {
      "provenance": [],
      "authorship_tag": "ABX9TyOFuzuohvE/jSO5QuAy4AB3",
      "include_colab_link": true
    },
    "kernelspec": {
      "name": "python3",
      "display_name": "Python 3"
    },
    "language_info": {
      "name": "python"
    }
  },
  "cells": [
    {
      "cell_type": "markdown",
      "metadata": {
        "id": "view-in-github",
        "colab_type": "text"
      },
      "source": [
        "<a href=\"https://colab.research.google.com/github/byhringjstudent/CIS2640-HY002/blob/main/CIS2640_Assignment_1.ipynb\" target=\"_parent\"><img src=\"https://colab.research.google.com/assets/colab-badge.svg\" alt=\"Open In Colab\"/></a>"
      ]
    },
    {
      "cell_type": "code",
      "execution_count": null,
      "metadata": {
        "id": "OMwQK_AVbFbT"
      },
      "outputs": [],
      "source": [
        "# Jason Byhring\n",
        "# Assignment #1\n",
        "\n",
        "# Review of eatures\n",
        "# Selection control, loops, random number, functions, lists/arrays, file I/O\n",
        "# Classes and objects, inheritance,\n",
        "# Graphical User Interface (GUI) features, and the UML diagram"
      ]
    },
    {
      "cell_type": "code",
      "source": [
        "import random\n",
        "import os\n",
        "import tkinter as tk\n",
        "from tkinter import messagebox,  simpledialog\n",
        "import matplotlib.pyplot as plt\n",
        "from abc import ABC, abstractmethod\n",
        "import math\n",
        "\n",
        "# Superclass\n",
        "class Shape(ABC):\n",
        "    def __init__(self, color='red'):\n",
        "      self.__color = color\n",
        "\n",
        "    def get_color(self):\n",
        "      return self.__color\n",
        "\n",
        "    def set_color(self, color):\n",
        "      self.__color = color\n",
        "\n",
        "    # abstraction\n",
        "    @abstractmethod\n",
        "    def find_area(self):\n",
        "      pass\n",
        "\n",
        "    @abstractmethod\n",
        "    def find_volume(self):\n",
        "      pass\n",
        "\n",
        "    @abstractmethod\n",
        "    def display(self):\n",
        "      pass"
      ],
      "metadata": {
        "id": "AQ96qHfmi5-n"
      },
      "execution_count": 62,
      "outputs": []
    },
    {
      "cell_type": "code",
      "source": [
        "# Subclass Circle\n",
        "class Circle(Shape):\n",
        "  def __init__(self, radius=1):\n",
        "    super().__init__()\n",
        "    self.__radius = radius\n",
        "\n",
        "  def find_area(self):\n",
        "    return math.pi * self.__radius ** 2\n",
        "\n",
        "  def find_volume(self):\n",
        "    return None # No volume for a 2D shape\n",
        "\n",
        "  def display(self):\n",
        "    return f\"Circle Type | Color: {self.get_color()} | Area: {self.find_area()}\""
      ],
      "metadata": {
        "id": "krbPqm5blvwq"
      },
      "execution_count": 63,
      "outputs": []
    },
    {
      "cell_type": "code",
      "source": [
        "# Subclass Square\n",
        "class Square(Shape):\n",
        "    def __init__(self, side=2.3):\n",
        "      super().__init__()\n",
        "      self.__side = side\n",
        "    def find_area(self):\n",
        "      return self.__side ** 2\n",
        "    def find_volume(self):\n",
        "      return None\n",
        "    def display(self):\n",
        "      return f\"Square Type | Color: {self.get_color()} | Area: {self.find_area()}\""
      ],
      "metadata": {
        "id": "BOIex8ozmXmY"
      },
      "execution_count": 53,
      "outputs": []
    },
    {
      "cell_type": "code",
      "source": [
        "# Subclass Cube\n",
        "class Cube(Shape):\n",
        "    def __init__(self, length=3, width=3, height=3):\n",
        "      super().__init__()\n",
        "      self.__length = length\n",
        "      self.__width = width\n",
        "      self.__height = height\n",
        "\n",
        "    def find_area(self):\n",
        "      return 6 * (self.__length ** 2)\n",
        "\n",
        "    def find_volume(self):\n",
        "      return self.__length * self.__width * self.__height\n",
        "\n",
        "    def display(self):\n",
        "      return f\"Cube Type | Color: {self.get_color()} | Volume: {self.find_volume}\""
      ],
      "metadata": {
        "id": "DZElB5pimy-q"
      },
      "execution_count": 64,
      "outputs": []
    },
    {
      "cell_type": "code",
      "source": [
        "# Generate 12 random shapes\n",
        "shapes = []\n",
        "shape_counts = {'Circle': 0, 'Square': 0, 'Cube': 0}\n",
        "\n",
        "for _ in range(12):\n",
        "  shape_type = random.randint(1, 3)\n",
        "  if shape_type == 1:\n",
        "    shape = Circle()\n",
        "    shape_counts[\"Circle\"] += 1\n",
        "  elif shape_type == 2:\n",
        "    shape = Square()\n",
        "    shape_counts[\"Square\"] += 1\n",
        "  else:\n",
        "    shape = Cube()\n",
        "    shape_counts[\"Cube\"] += 1\n",
        "  shapes.append(shape)"
      ],
      "metadata": {
        "id": "f-u44LtWnRi5"
      },
      "execution_count": 97,
      "outputs": []
    },
    {
      "cell_type": "code",
      "source": [
        "# Function to display results in console\n",
        "def display_console():\n",
        "  for shape in shapes:\n",
        "    print(shape.display())\n",
        "\n",
        "# Function to save results in a file\n",
        "def save_to_file():\n",
        "  filename = input(\"Enter filename to save results: \")\n",
        "  with open(filename, \"w\") as file:\n",
        "    for shape in shapes:\n",
        "      file.write(shape.display() + \"\\n\")\n",
        "  print(f\"Results saved to {filename}\")"
      ],
      "metadata": {
        "id": "ozydGnhzrpLs"
      },
      "execution_count": 98,
      "outputs": []
    },
    {
      "cell_type": "code",
      "source": [
        "# Function to show pie chart\n",
        "import os\n",
        "\n",
        "def display_gui():\n",
        "  try:\n",
        "    root = tk.Tk()\n",
        "    root.withdraw()\n",
        "    message = '\\n'.join([shape.display() for shape in shapes])\n",
        "    messagebox.showinfo(\"Shape Information\", message)\n",
        "  except Exception as e:\n",
        "    print(f\"Error displaying GUI: {e}\")\n",
        "\n",
        "def show_pie_chart():\n",
        "  labels = shape_counts.keys()\n",
        "  sizes = shape_counts.values()\n",
        "  plt.figure(figsize=(6, 6))\n",
        "  plt.pie(sizes, labels=labels, autopct='%1.1f%%', startangle=140)\n",
        "  plt.title(\"Shape Distribution\")\n",
        "  plt.show()"
      ],
      "metadata": {
        "id": "OD2L1UWBsGiu"
      },
      "execution_count": 100,
      "outputs": []
    },
    {
      "cell_type": "code",
      "source": [
        "# User interaction\n",
        "print(\"Select output method:\")\n",
        "print(\"1 - Console Output\")\n",
        "print(\"2 - Save to File\")\n",
        "print(\"3 - GUI Message Box\")\n",
        "print(\"4 - Show Pie Chart\")\n",
        "choice = int(input(\"Enter choice: \"))\n",
        "\n",
        "if choice == 1:\n",
        "  display_console()\n",
        "elif choice == 2:\n",
        "  save_to_file()\n",
        "elif choice == 3:\n",
        "  display_gui()\n",
        "  show_pie_chart()\n",
        "elif choice == 4:\n",
        "  show_pie_chart()\n",
        "else:\n",
        "  print(\"Invalid Choice.\")"
      ],
      "metadata": {
        "colab": {
          "base_uri": "https://localhost:8080/",
          "height": 623
        },
        "collapsed": true,
        "id": "Tq0Lc8_e6ZRC",
        "outputId": "d24dbc65-8c3b-4ba1-83e6-764b39312063"
      },
      "execution_count": 104,
      "outputs": [
        {
          "name": "stdout",
          "output_type": "stream",
          "text": [
            "Select output method:\n",
            "1 - Console Output\n",
            "2 - Save to File\n",
            "3 - GUI Message Box\n",
            "4 - Show Pie Chart\n",
            "Enter choice: 4\n"
          ]
        },
        {
          "output_type": "display_data",
          "data": {
            "text/plain": [
              "<Figure size 600x600 with 1 Axes>"
            ],
            "image/png": "[encoded data removed]"
          },
          "metadata": {}
        }
      ]
    },
    {
      "cell_type": "markdown",
      "source": [],
      "metadata": {
        "id": "ZebWLH3GU_UX"
      }
    },
    {
      "cell_type": "code",
      "source": [],
      "metadata": {
        "id": "drjEZ3h1U-RD"
      },
      "execution_count": null,
      "outputs": []
    }
  ]
}